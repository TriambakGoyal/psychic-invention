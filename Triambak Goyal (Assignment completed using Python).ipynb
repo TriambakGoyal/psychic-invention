{
 "cells": [
  {
   "cell_type": "code",
   "execution_count": 59,
   "metadata": {},
   "outputs": [],
   "source": [
    "from collections import OrderedDict\n",
    "import datetime \n",
    "import unittest\n",
    "\n"
   ]
  },
  {
   "cell_type": "code",
   "execution_count": 57,
   "metadata": {},
   "outputs": [],
   "source": [
    "# Function to find the day of the key values which are in YYYY-MM-DD format\n",
    "def findDay(date): \n",
    "    try:\n",
    "        year, month, day = (int(i) for i in date.split('-'))     \n",
    "        days = datetime.date(year, month, day) \n",
    "        return days.strftime(\"%a\")\n",
    "    except e:\n",
    "        print(e)\n",
    "        print(\"The date must be in YYYY-MM-DD format\")\n",
    "\n",
    "# Funtion that returns the solution to the problem\n",
    "def solution(D):\n",
    "#     creating ordered dictionary variable\n",
    "    days=OrderedDict()\n",
    "#     creating a dictionary with abbreviated date values\n",
    "    days={'Mon':None,'Tue':None,'Wed':None,'Thu':None,'Fri':None,'Sat':None,'Sun':None}\n",
    "    \n",
    "#     creating a list of abbreviated days\n",
    "    days_list=list(days)\n",
    "    \n",
    "#     This loop adds sum of integer values of key(Dates) respective to their days in the dictionary\n",
    "    for i in D:\n",
    "        if days[findDay(i)]==None:\n",
    "            days[findDay(i)]=0+D[i]\n",
    "        else:\n",
    "            days[findDay(i)]=days[findDay(i)]+D[i]\n",
    "            \n",
    "#     if the days are missing in the dictionary \n",
    "#     this loops checks those days and add the mean of prev and next day integer value to this missing day\n",
    "    for i in days_list:\n",
    "\n",
    "        if days[i]==None:   #checks whether the day is missing\n",
    "            \n",
    "                days[i] = 2*days[days_list[days_list.index(i)-1]] - days[days_list[days_list.index(i)-2]] #this will assign integer value to the missing day\n",
    "                \n",
    "    return days    \n",
    "    \n",
    "        \n",
    "    \n",
    "    "
   ]
  },
  {
   "cell_type": "code",
   "execution_count": 61,
   "metadata": {},
   "outputs": [
    {
     "name": "stdout",
     "output_type": "stream",
     "text": [
      "{'Mon': -6, 'Tue': -2, 'Wed': 2, 'Thu': 4, 'Fri': 6, 'Sat': 8, 'Sun': 2}\n",
      "{'Mon': -6, 'Tue': -2, 'Wed': 2, 'Thu': 6, 'Fri': 10, 'Sat': 8, 'Sun': 2}\n",
      "{'Mon': 2, 'Tue': 4, 'Wed': 6, 'Thu': 8, 'Fri': 10, 'Sat': 12, 'Sun': 14}\n"
     ]
    }
   ],
   "source": [
    "d={'2020-01-01':4,'2020-01-02':4,'2020-01-03':6,'2020-01-04':8,'2020-01-05':2,'2020-01-06':-6,'2020-01-07':-2,'2020-01-08':-2}\n",
    "f={'2020-01-01':4,'2020-01-04':8,'2020-01-05':2,'2020-01-06':-6,'2020-01-07':-2,'2020-01-08':-2}\n",
    "e={'2020-01-01':6,'2020-01-04':12,'2020-01-05':14,'2020-01-06':2,'2020-01-07':4}\n",
    "\n",
    "print(solution(d))\n",
    "print(solution(f))\n",
    "print(solution(e))"
   ]
  },
  {
   "cell_type": "code",
   "execution_count": null,
   "metadata": {},
   "outputs": [],
   "source": []
  },
  {
   "cell_type": "code",
   "execution_count": null,
   "metadata": {},
   "outputs": [],
   "source": []
  }
 ],
 "metadata": {
  "kernelspec": {
   "display_name": "Python 3",
   "language": "python",
   "name": "python3"
  },
  "language_info": {
   "codemirror_mode": {
    "name": "ipython",
    "version": 3
   },
   "file_extension": ".py",
   "mimetype": "text/x-python",
   "name": "python",
   "nbconvert_exporter": "python",
   "pygments_lexer": "ipython3",
   "version": "3.7.6"
  }
 },
 "nbformat": 4,
 "nbformat_minor": 4
}
